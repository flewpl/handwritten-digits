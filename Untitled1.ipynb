{
 "cells": [
  {
   "cell_type": "code",
   "execution_count": 88,
   "id": "0b52dfc9",
   "metadata": {},
   "outputs": [],
   "source": [
    "import numpy as np\n",
    "import tensorflow as tf\n",
    "import pandas as pd\n",
    "from matplotlib import pyplot as plt\n",
    "import os\n",
    "import tensorflow_datasets as tfds\n",
    "from tensorflow.keras.datasets import mnist\n",
    "from tensorflow.keras import layers\n",
    "from tensorflow.keras.layers import  Flatten, Dense\n",
    "from tensorflow.keras.activations import softmax, relu\n",
    "from tensorflow.keras.utils import normalize\n",
    "import cv2\n"
   ]
  },
  {
   "cell_type": "code",
   "execution_count": 89,
   "id": "d3612ea0",
   "metadata": {},
   "outputs": [],
   "source": [
    "os.environ['KMP_DUPLICATE_LIB_OK'] = 'True'"
   ]
  },
  {
   "cell_type": "code",
   "execution_count": 90,
   "id": "d10fe339",
   "metadata": {},
   "outputs": [],
   "source": [
    "(x_train, y_train), (x_test, y_test) = mnist.load_data()\n"
   ]
  },
  {
   "cell_type": "code",
   "execution_count": 91,
   "id": "02dff60c",
   "metadata": {},
   "outputs": [],
   "source": [
    "num_classes = 10\n",
    "x_train = tf.keras.utils.normalize(x_train, axis=1)\n",
    "x_test = tf.keras.utils.normalize(x_test, axis=1)\n",
    "# y_test = tf.keras.utils.normalize(y_test,axis = 1)\n",
    "y_train_encoded = tf.keras.utils.to_categorical(y_train, num_classes)"
   ]
  },
  {
   "cell_type": "code",
   "execution_count": 92,
   "id": "d0ebab7a",
   "metadata": {},
   "outputs": [
    {
     "name": "stdout",
     "output_type": "stream",
     "text": [
      "36000\n",
      "3000\n",
      "12000\n"
     ]
    }
   ],
   "source": [
    "train_set = int(len(x_train) * 0.6)\n",
    "test_set = int(len(x_test) * 0.3)\n",
    "val_set = int(len(x_train)*0.2)\n",
    "print(train_set)\n",
    "print(test_set)\n",
    "print(val_set)"
   ]
  },
  {
   "cell_type": "code",
   "execution_count": 93,
   "id": "bccb68f5",
   "metadata": {},
   "outputs": [
    {
     "data": {
      "image/png": "[encoded data removed]",
      "text/plain": [
       "<Figure size 1000x500 with 5 Axes>"
      ]
     },
     "metadata": {},
     "output_type": "display_data"
    }
   ],
   "source": [
    "plt.figure(figsize=(10, 5))\n",
    "for i in range(5):\n",
    "    plt.subplot(1, 5, i+1)\n",
    "    plt.imshow(x_train[i], cmap='gray')\n",
    "    plt.title(f\"Label: {y_train[i]}\")\n",
    "    plt.axis('off')\n",
    "plt.show()"
   ]
  },
  {
   "cell_type": "code",
   "execution_count": 94,
   "id": "fc7f6450",
   "metadata": {},
   "outputs": [],
   "source": [
    "model = tf.keras.Sequential()"
   ]
  },
  {
   "cell_type": "code",
   "execution_count": 95,
   "id": "1a6eb42b",
   "metadata": {},
   "outputs": [],
   "source": [
    "model.add(Flatten(input_shape=(28,28)))\n",
    "model.add(Dense(256, activation=\"relu\"))\n",
    "model.add(Dense(128, activation=\"relu\"))\n",
    "model.add(Dense(10, activation=\"softmax\"))"
   ]
  },
  {
   "cell_type": "code",
   "execution_count": 96,
   "id": "247a9370",
   "metadata": {},
   "outputs": [],
   "source": [
    "model.compile('adam', loss='sparse_categorical_crossentropy')"
   ]
  },
  {
   "cell_type": "code",
   "execution_count": 97,
   "id": "caf860b5",
   "metadata": {},
   "outputs": [
    {
     "name": "stdout",
     "output_type": "stream",
     "text": [
      "Model: \"sequential_5\"\n",
      "_________________________________________________________________\n",
      " Layer (type)                Output Shape              Param #   \n",
      "=================================================================\n",
      " flatten_6 (Flatten)         (None, 784)               0         \n",
      "                                                                 \n",
      " dense_18 (Dense)            (None, 256)               200960    \n",
      "                                                                 \n",
      " dense_19 (Dense)            (None, 128)               32896     \n",
      "                                                                 \n",
      " dense_20 (Dense)            (None, 10)                1290      \n",
      "                                                                 \n",
      "=================================================================\n",
      "Total params: 235,146\n",
      "Trainable params: 235,146\n",
      "Non-trainable params: 0\n",
      "_________________________________________________________________\n"
     ]
    }
   ],
   "source": [
    "model.summary()"
   ]
  },
  {
   "cell_type": "code",
   "execution_count": 98,
   "id": "70d71307",
   "metadata": {},
   "outputs": [],
   "source": [
    "logdir = \"log\"\n",
    "callback = tf.keras.callbacks.TensorBoard(log_dir=logdir)"
   ]
  },
  {
   "cell_type": "code",
   "execution_count": 99,
   "id": "31a0cf0a",
   "metadata": {},
   "outputs": [
    {
     "name": "stdout",
     "output_type": "stream",
     "text": [
      "Epoch 1/5\n",
      "1875/1875 [==============================] - 4s 2ms/step - loss: 0.2296\n",
      "Epoch 2/5\n",
      "1875/1875 [==============================] - 4s 2ms/step - loss: 0.0908\n",
      "Epoch 3/5\n",
      "1875/1875 [==============================] - 4s 2ms/step - loss: 0.0592\n",
      "Epoch 4/5\n",
      "1875/1875 [==============================] - 4s 2ms/step - loss: 0.0432\n",
      "Epoch 5/5\n",
      "1875/1875 [==============================] - 4s 2ms/step - loss: 0.0295\n"
     ]
    },
    {
     "data": {
      "text/plain": [
       "<keras.callbacks.History at 0x19a582cf1c0>"
      ]
     },
     "execution_count": 99,
     "metadata": {},
     "output_type": "execute_result"
    }
   ],
   "source": [
    "model.fit(x_train, y_train, epochs=5, callbacks= callback)"
   ]
  },
  {
   "cell_type": "code",
   "execution_count": 103,
   "id": "51a38a2b",
   "metadata": {},
   "outputs": [
    {
     "name": "stdout",
     "output_type": "stream",
     "text": [
      "313/313 [==============================] - 0s 1ms/step\n"
     ]
    },
    {
     "data": {
      "text/plain": [
       "array([[1.28747751e-16, 2.93792356e-12, 3.99818130e-11, ...,\n",
       "        9.99999940e-01, 3.99379450e-13, 3.77755206e-12],\n",
       "       [1.31362696e-24, 6.04882699e-10, 9.99999940e-01, ...,\n",
       "        1.57850835e-18, 5.31437901e-18, 4.12758600e-25],\n",
       "       [4.43801463e-12, 9.99997914e-01, 3.60030782e-07, ...,\n",
       "        8.69418955e-07, 1.23737856e-08, 1.37227131e-11],\n",
       "       ...,\n",
       "       [4.65053995e-15, 3.42511297e-11, 1.75156660e-11, ...,\n",
       "        5.42023093e-10, 1.55126512e-09, 1.02858353e-08],\n",
       "       [1.31553353e-11, 3.54957383e-13, 2.29106776e-14, ...,\n",
       "        8.12480671e-13, 7.80002054e-08, 1.92082983e-19],\n",
       "       [2.55296406e-09, 2.55988129e-14, 5.23395448e-14, ...,\n",
       "        1.39954296e-18, 6.94889577e-16, 2.74686534e-14]], dtype=float32)"
      ]
     },
     "execution_count": 103,
     "metadata": {},
     "output_type": "execute_result"
    }
   ],
   "source": []
  },
  {
   "cell_type": "code",
   "execution_count": 103,
   "id": "289dade3",
   "metadata": {},
   "outputs": [
    {
     "name": "stdout",
     "output_type": "stream",
     "text": [
      "313/313 [==============================] - 0s 1ms/step\n"
     ]
    },
    {
     "data": {
      "text/plain": [
       "array([[1.28747751e-16, 2.93792356e-12, 3.99818130e-11, ...,\n",
       "        9.99999940e-01, 3.99379450e-13, 3.77755206e-12],\n",
       "       [1.31362696e-24, 6.04882699e-10, 9.99999940e-01, ...,\n",
       "        1.57850835e-18, 5.31437901e-18, 4.12758600e-25],\n",
       "       [4.43801463e-12, 9.99997914e-01, 3.60030782e-07, ...,\n",
       "        8.69418955e-07, 1.23737856e-08, 1.37227131e-11],\n",
       "       ...,\n",
       "       [4.65053995e-15, 3.42511297e-11, 1.75156660e-11, ...,\n",
       "        5.42023093e-10, 1.55126512e-09, 1.02858353e-08],\n",
       "       [1.31553353e-11, 3.54957383e-13, 2.29106776e-14, ...,\n",
       "        8.12480671e-13, 7.80002054e-08, 1.92082983e-19],\n",
       "       [2.55296406e-09, 2.55988129e-14, 5.23395448e-14, ...,\n",
       "        1.39954296e-18, 6.94889577e-16, 2.74686534e-14]], dtype=float32)"
      ]
     },
     "execution_count": 103,
     "metadata": {},
     "output_type": "execute_result"
    }
   ],
   "source": [
    "\n",
    "model.predict(x_test)"
   ]
  },
  {
   "cell_type": "code",
   "execution_count": 84,
   "id": "aae3938f",
   "metadata": {},
   "outputs": [
    {
     "name": "stdout",
     "output_type": "stream",
     "text": [
      "313/313 [==============================] - 1s 1ms/step - loss: 0.0894\n",
      "0.08940953016281128\n"
     ]
    }
   ],
   "source": [
    "loss = model.evaluate(x_test, y_test)\n",
    "print(loss)"
   ]
  },
  {
   "cell_type": "code",
   "execution_count": 85,
   "id": "47fe5de4",
   "metadata": {},
   "outputs": [
    {
     "data": {
      "text/plain": [
       "<keras.callbacks.History at 0x19a693fefb0>"
      ]
     },
     "execution_count": 85,
     "metadata": {},
     "output_type": "execute_result"
    }
   ],
   "source": [
    "model.history\n"
   ]
  },
  {
   "cell_type": "code",
   "execution_count": null,
   "id": "951e2d04",
   "metadata": {},
   "outputs": [],
   "source": []
  }
 ],
 "metadata": {
  "kernelspec": {
   "display_name": "Python 3 (ipykernel)",
   "language": "python",
   "name": "python3"
  },
  "language_info": {
   "codemirror_mode": {
    "name": "ipython",
    "version": 3
   },
   "file_extension": ".py",
   "mimetype": "text/x-python",
   "name": "python",
   "nbconvert_exporter": "python",
   "pygments_lexer": "ipython3",
   "version": "3.10.10"
  },
  "varInspector": {
   "cols": {
    "lenName": 16,
    "lenType": 16,
    "lenVar": 40
   },
   "kernels_config": {
    "python": {
     "delete_cmd_postfix": "",
     "delete_cmd_prefix": "del ",
     "library": "var_list.py",
     "varRefreshCmd": "print(var_dic_list())"
    },
    "r": {
     "delete_cmd_postfix": ") ",
     "delete_cmd_prefix": "rm(",
     "library": "var_list.r",
     "varRefreshCmd": "cat(var_dic_list()) "
    }
   },
   "types_to_exclude": [
    "module",
    "function",
    "builtin_function_or_method",
    "instance",
    "_Feature"
   ],
   "window_display": false
  }
 },
 "nbformat": 4,
 "nbformat_minor": 5
}
